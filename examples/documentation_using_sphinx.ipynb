{
 "cells": [
  {
   "cell_type": "markdown",
   "metadata": {
    "raw_mimetype": "text/markdown"
   },
   "source": [
    "# Documentation (using Sphinx)"
   ]
  },
  {
   "cell_type": "markdown",
   "metadata": {},
   "source": [
    "## Write Docstrings for Every Function, Class, and Module\n",
    "<!-- This is the Item 84 of Effective Python 2nd edition from the section Collaboration. -->"
   ]
  },
  {
   "cell_type": "markdown",
   "metadata": {},
   "source": [
    "Once trimmed, there will be no distinction between starting on first or second line.\n",
    "\n",
    "1. prefer start on first line of the docstring\n",
    "\n",
    "2. don't tab empty line of the docstring"
   ]
  },
  {
   "cell_type": "markdown",
   "metadata": {},
   "source": [
    "### Function"
   ]
  },
  {
   "cell_type": "markdown",
   "metadata": {},
   "source": [
    "**Best practice**"
   ]
  },
  {
   "cell_type": "code",
   "execution_count": 1,
   "metadata": {},
   "outputs": [
    {
     "name": "stdout",
     "output_type": "stream",
     "text": [
      "Return True if the given word is a palindrome\n",
      "\n",
      "    'Stats' is an example of a palindrome\n",
      "    \n"
     ]
    },
    {
     "data": {
      "text/plain": [
       "\"Return True if the given word is a palindrome\\n\\n    'Stats' is an example of a palindrome\\n    \""
      ]
     },
     "execution_count": 1,
     "metadata": {},
     "output_type": "execute_result"
    }
   ],
   "source": [
    "def palindrome(word):\n",
    "    \"\"\"Return True if the given word is a palindrome\n",
    "\n",
    "    'Stats' is an example of a palindrome\n",
    "    \"\"\"\n",
    "    return word == word[::-1]\n",
    "\n",
    "print(palindrome.__doc__)\n",
    "palindrome.__doc__"
   ]
  },
  {
   "cell_type": "markdown",
   "metadata": {},
   "source": [
    "### Class"
   ]
  },
  {
   "cell_type": "markdown",
   "metadata": {},
   "source": [
    "**Best practice**"
   ]
  },
  {
   "cell_type": "code",
   "execution_count": 2,
   "metadata": {},
   "outputs": [
    {
     "name": "stdout",
     "output_type": "stream",
     "text": [
      "Represents a player of the game\n",
      "\n",
      "    Subclass may override the 'tick' method to provide\n",
      "    custom animations for the player movement depending \n",
      "    on their power level\n",
      "\n",
      "    Public attributes:\n",
      "    - power: Unused power-ups\n",
      "    \n"
     ]
    }
   ],
   "source": [
    "class Player:\n",
    "    \"\"\"Represents a player of the game\n",
    "\n",
    "    Subclass may override the 'tick' method to provide\n",
    "    custom animations for the player movement depending \n",
    "    on their power level\n",
    "\n",
    "    Public attributes:\n",
    "    - power: Unused power-ups\n",
    "    \"\"\"\n",
    "    pass\n",
    "\n",
    "print(Player.__doc__)"
   ]
  },
  {
   "cell_type": "markdown",
   "metadata": {},
   "source": [
    "### Module"
   ]
  },
  {
   "cell_type": "markdown",
   "metadata": {},
   "source": [
    "**Best practice**"
   ]
  },
  {
   "cell_type": "code",
   "execution_count": 3,
   "metadata": {},
   "outputs": [
    {
     "data": {
      "text/plain": [
       "'Library for finding linguist patterns\\n\\nTesting how words ...\\n\\nAvailable functions:\\n- palindrome: determine if word is a palindrome\\n...\\n'"
      ]
     },
     "execution_count": 3,
     "metadata": {},
     "output_type": "execute_result"
    }
   ],
   "source": [
    "# words.py\n",
    "#!/usr/bin/env python3\n",
    "\"\"\"Library for finding linguist patterns\n",
    "\n",
    "Testing how words ...\n",
    "\n",
    "Available functions:\n",
    "- palindrome: determine if word is a palindrome\n",
    "...\n",
    "\"\"\"\n",
    "\n"
   ]
  },
  {
   "cell_type": "markdown",
   "metadata": {},
   "source": [
    "## Write Docstrings for Variable\n",
    "<!-- We did this in the runhelper -->"
   ]
  },
  {
   "cell_type": "markdown",
   "metadata": {},
   "source": [
    "### Variable\n",
    "You can add variable documentation for your IDE (it works for VSCode and pycharm)."
   ]
  },
  {
   "cell_type": "code",
   "execution_count": 4,
   "metadata": {},
   "outputs": [
    {
     "data": {
      "text/plain": [
       "'precision is the precision threshold in the simulation'"
      ]
     },
     "execution_count": 4,
     "metadata": {},
     "output_type": "execute_result"
    }
   ],
   "source": [
    "precision = 10**-4\n",
    "\"\"\"precision is the precision threshold in the simulation\"\"\""
   ]
  },
  {
   "cell_type": "markdown",
   "metadata": {},
   "source": [
    "This is not a python docstring. Sphinx will not be able to use it."
   ]
  },
  {
   "cell_type": "markdown",
   "metadata": {},
   "source": [
    "## Writing sphinx docstrings"
   ]
  },
  {
   "cell_type": "markdown",
   "metadata": {},
   "source": [
    "We automatically generate documentation from the [docstrings](https://www.python.org/dev/peps/pep-0257/) using sphinx [autodoc module](https://www.sphinx-doc.org/en/master/usage/extensions/autodoc.html). The [sphinx docstrings](https://sphinx-rtd-tutorial.readthedocs.io/en/latest/docstrings.html) format is described [here](https://sphinx-rtd-tutorial.readthedocs.io/en/latest/docstrings.html#the-sphinx-docstring-format). We omit repeating the type since it can be added as variable and function annotations; it may be added for product documentation. Please refer to the section on typing for the good typing practices."
   ]
  },
  {
   "cell_type": "markdown",
   "metadata": {},
   "source": [
    "**Avoid**"
   ]
  },
  {
   "cell_type": "code",
   "execution_count": 5,
   "metadata": {},
   "outputs": [],
   "source": [
    "# avoid napolean style\n",
    "def function_with_types_in_docstring(param1, param2):\n",
    "    \"\"\"Example function with types documented in the docstring.\n",
    "\n",
    "    `PEP 484`_ type annotations are supported. If attribute, parameter, and\n",
    "    return types are annotated according to `PEP 484`_, they do not need to be\n",
    "    included in the docstring:\n",
    "\n",
    "    Args:\n",
    "        param1 (int): The first parameter.\n",
    "        param2 (str): The second parameter.\n",
    "\n",
    "    Returns:\n",
    "        bool: The return value. True for success, False otherwise.\n",
    "\n",
    "    .. _PEP 484:\n",
    "        https://www.python.org/dev/peps/pep-0484/\n",
    "\n",
    "    \"\"\"\n",
    "    pass"
   ]
  },
  {
   "cell_type": "markdown",
   "metadata": {},
   "source": [
    "**Best practice**"
   ]
  },
  {
   "cell_type": "code",
   "execution_count": 6,
   "metadata": {},
   "outputs": [],
   "source": [
    "def function_with_docstring(param1: int, param2: str) -> bool:\n",
    "    \"\"\"Example function with types documented outside the docstring.\n",
    "\n",
    "    We omit the types (provided by typing directly in the doc)\n",
    "\n",
    "    :param param1: The first parameter\n",
    "    :param param2: The second parameter\n",
    "    :raises ValueError: Bad first parameter\n",
    "\n",
    "    :return: The return value. True for success, False otherwise.\n",
    "    \"\"\"\n",
    "    pass"
   ]
  }
 ],
 "metadata": {
  "celltoolbar": "Raw Cell Format",
  "kernelspec": {
   "display_name": "Python 3",
   "language": "python",
   "name": "python3"
  },
  "language_info": {
   "codemirror_mode": {
    "name": "ipython",
    "version": 3
   },
   "file_extension": ".py",
   "mimetype": "text/x-python",
   "name": "python",
   "nbconvert_exporter": "python",
   "pygments_lexer": "ipython3",
   "version": "3.8.5"
  }
 },
 "nbformat": 4,
 "nbformat_minor": 4
}
