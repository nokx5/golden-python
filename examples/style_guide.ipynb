{
 "cells": [
  {
   "cell_type": "markdown",
   "metadata": {},
   "source": [
    "# Style Guide for Python Code"
   ]
  },
  {
   "cell_type": "markdown",
   "metadata": {},
   "source": [
    "There should be one — and preferably only one — obvious way to do it. \n",
    "\n",
    "Code is read much more than it is written. \n",
    "\n",
    "- Use a linter -- code inspector (with static typing) -- such as pylint, flake8, mypy, prospector\n",
    "- Use a formatter for collaborative work : black\n",
    "- Better use those tools within a good IDE such as VSCode, PyCharm.\n",
    "\n",
    "**Naming conventions**\n",
    "\n",
    "Naming is difficult. But the following could help the readability of the code.\n",
    "\n",
    "1. lowercase -> python packages\n",
    "\n",
    "2. CapitalizedWords -> Class names, Exception Names\n",
    "\n",
    "3. \\_leading_underscore -> Non-public methods and instance variables\n",
    "\n",
    "4. \\_\\_double_leading_underscore -> To avoid attributes to be used by subclasses by invoking Python's name mangling algorithm\n",
    "\n",
    "5. ALL_UPPERCASE -> Global constants defined on a module level"
   ]
  },
  {
   "cell_type": "markdown",
   "metadata": {},
   "source": [
    "**Avoid**"
   ]
  },
  {
   "cell_type": "code",
   "execution_count": 1,
   "metadata": {},
   "outputs": [],
   "source": [
    "import Go\n",
    "\n",
    "def someFunction():\n",
    "    print(\"Is not the preferred PEP 8 pattern for function names\")\n",
    "\n",
    "class py_style:\n",
    "    pass"
   ]
  },
  {
   "cell_type": "markdown",
   "metadata": {},
   "source": [
    "**Best practice**"
   ]
  },
  {
   "cell_type": "code",
   "execution_count": 2,
   "metadata": {},
   "outputs": [],
   "source": [
    "import go\n",
    "\n",
    "def some_function():\n",
    "    print(\"PEP 8 Style Guide prefers this CamelCase pattern\")\n",
    "\n",
    "class PyStyle:\n",
    "    pass"
   ]
  },
  {
   "cell_type": "markdown",
   "metadata": {},
   "source": [
    "## More Python Enhancement Proposals (PEPs)"
   ]
  },
  {
   "cell_type": "markdown",
   "metadata": {},
   "source": [
    "PEP8 - Style Guide for Python Code - https://www.python.org/dev/peps/pep-0008/\n",
    "\n",
    "PEP484 - Type Hints - https://www.python.org/dev/peps/pep-0484/\n",
    "\n",
    "PEP526 - Syntax for Variable Annotations - https://www.python.org/dev/peps/pep-0526/\n",
    "\n",
    "PEP 3107 - Function Annotations - https://www.python.org/dev/peps/pep-3107/"
   ]
  }
 ],
 "metadata": {
  "kernelspec": {
   "display_name": "Python 3",
   "language": "python",
   "name": "python3"
  },
  "language_info": {
   "codemirror_mode": {
    "name": "ipython",
    "version": 3
   },
   "file_extension": ".py",
   "mimetype": "text/x-python",
   "name": "python",
   "nbconvert_exporter": "python",
   "pygments_lexer": "ipython3",
   "version": "3.8.5"
  }
 },
 "nbformat": 4,
 "nbformat_minor": 4
}
