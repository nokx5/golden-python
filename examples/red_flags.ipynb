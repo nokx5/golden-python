{
 "cells": [
  {
   "cell_type": "markdown",
   "metadata": {},
   "source": [
    "# Red flags"
   ]
  },
  {
   "cell_type": "markdown",
   "metadata": {},
   "source": [
    "Red flags are here pieces of code that can be found but should be avoided at any cost.\n",
    "\n",
    "1. If a utility makes more than 30 lines in python, think about how to factorize it.\n",
    "\n",
    "2. Decorators are great and fun → almost never use them in production.\n",
    "\n",
    "3. Python can be slippery (3 lines could be 3 functionalities) → python code should follow the single responsibility principle.\n",
    "\n",
    "4. For profiling, use the cProfile instead of the profile module because of his minimal impact on the performance of the program.\n"
   ]
  },
  {
   "cell_type": "code",
   "execution_count": 1,
   "metadata": {},
   "outputs": [],
   "source": [
    "from cProfile import Profile\n",
    "profiler = Profile()"
   ]
  },
  {
   "cell_type": "markdown",
   "metadata": {},
   "source": [
    "5. Argument parsing for boolean should never use the True or False word in the cmdline. "
   ]
  },
  {
   "cell_type": "code",
   "execution_count": 2,
   "metadata": {},
   "outputs": [
    {
     "name": "stdout",
     "output_type": "stream",
     "text": [
      "Namespace(foo=False)\n",
      "Namespace(foo=False)\n",
      "Namespace(foo=True)\n",
      "Namespace(foo=False)\n",
      "Namespace(foo=True)\n"
     ]
    }
   ],
   "source": [
    "import argparse\n",
    "parser = argparse.ArgumentParser(description='cmdline arguments')\n",
    "\n",
    "# Python<=3.8\n",
    "parser.add_argument('--foo', default=False, action='store_true')\n",
    "parser.add_argument('--no-foo', dest='foo', action='store_false')\n",
    "\n",
    "# # python 3.9\n",
    "# parser.add_argument(\"--foo\", action=argparse.BooleanOptionalAction)\n",
    "\n",
    "print(parser.parse_args([]))\n",
    "print(parser.parse_args(['--no-foo']))\n",
    "print(parser.parse_args(['--foo']))\n",
    "print(parser.parse_args(['--foo', '--no-foo']))\n",
    "print(parser.parse_args(['--foo', '--no-foo', '--foo']))"
   ]
  },
  {
   "cell_type": "markdown",
   "metadata": {},
   "source": [
    "6. Never rename modules to an other existing modules."
   ]
  },
  {
   "cell_type": "code",
   "execution_count": null,
   "metadata": {},
   "outputs": [],
   "source": [
    "import json\n",
    "# or\n",
    "import json5\n",
    "\n",
    "# don't\n",
    "# import json5 as json\n",
    "\n",
    "# fine, no module called np\n",
    "import numpy as np"
   ]
  },
  {
   "cell_type": "markdown",
   "metadata": {},
   "source": [
    "7. A class with one method next to the constructor should not be a class."
   ]
  },
  {
   "cell_type": "code",
   "execution_count": 4,
   "metadata": {},
   "outputs": [],
   "source": [
    "# avoid\n",
    "class FrequencyList(list):\n",
    "    def __init__(self, members):\n",
    "        super().__init__(members)\n",
    "\n",
    "    def frequency(self):\n",
    "        counts = {}\n",
    "        for item in self:\n",
    "            counts[item] = counts.get(item, 0) + 1\n",
    "        return counts\n",
    "\n",
    "# best practice\n",
    "def frequency(members):\n",
    "    counts = {}\n",
    "    for item in members:\n",
    "        counts[item] = counts.get(item, 0) + 1\n",
    "    return counts"
   ]
  },
  {
   "cell_type": "markdown",
   "metadata": {},
   "source": [
    "8. ..."
   ]
  },
  {
   "cell_type": "code",
   "execution_count": null,
   "metadata": {},
   "outputs": [],
   "source": []
  }
 ],
 "metadata": {
  "kernelspec": {
   "display_name": "Python 3",
   "language": "python",
   "name": "python3"
  },
  "language_info": {
   "codemirror_mode": {
    "name": "ipython",
    "version": 3
   },
   "file_extension": ".py",
   "mimetype": "text/x-python",
   "name": "python",
   "nbconvert_exporter": "python",
   "pygments_lexer": "ipython3",
   "version": "3.8.5"
  }
 },
 "nbformat": 4,
 "nbformat_minor": 4
}
