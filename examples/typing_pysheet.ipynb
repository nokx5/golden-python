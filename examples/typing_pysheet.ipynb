{
 "cells": [
  {
   "cell_type": "markdown",
   "metadata": {},
   "source": [
    "# Type hints - static typing"
   ]
  },
  {
   "cell_type": "markdown",
   "metadata": {},
   "source": [
    "The main goal of this [cheat sheet](https://www.pythonsheets.com/notes/python-typing.html) is to show some common usage about type hints in Python3.\n",
    "\n",
    "As a rule of thumb, if you know the typing, add it."
   ]
  },
  {
   "cell_type": "code",
   "execution_count": null,
   "metadata": {},
   "outputs": [],
   "source": [
    "# give a type hint\n",
    "from typing import Generator\n",
    "\n",
    "# Generator[YieldType, SendType, ReturnType]\n",
    "def fib(n: int) -> Generator[int, None, None]:\n",
    "    a: int = 0\n",
    "    b: int = 1\n",
    "    for _ in range(n):\n",
    "        yield a\n",
    "        b, a = a + b, b\n",
    "\n",
    "print([n for n in fib(3.6)])\n",
    "\n",
    "# # errors will be detected before running\n",
    "#\n",
    "# $ mypy --strict fib.py\n",
    "# fib.py:12: error: Argument 1 to \"fib\" has incompatible type \"float\"; expected \"int\""
   ]
  },
  {
   "cell_type": "markdown",
   "metadata": {},
   "source": [
    "## Basic Types"
   ]
  },
  {
   "cell_type": "code",
   "execution_count": 1,
   "metadata": {},
   "outputs": [],
   "source": [
    "import io\n",
    "import re\n",
    "\n",
    "from collections import deque, namedtuple\n",
    "from typing import (\n",
    "    Dict,\n",
    "    List,\n",
    "    Tuple,\n",
    "    Set,\n",
    "    Deque,\n",
    "    NamedTuple,\n",
    "    IO,\n",
    "    Pattern,\n",
    "    Match,\n",
    "    Text,\n",
    "    Optional,\n",
    "    Sequence,\n",
    "    Iterable,\n",
    "    Mapping,\n",
    "    MutableMapping,\n",
    "    Any,\n",
    "    Union,\n",
    ")\n",
    "\n",
    "# without initializing\n",
    "x: int\n",
    "\n",
    "# any type\n",
    "y: Any\n",
    "y = 1\n",
    "y = \"1\"\n",
    "\n",
    "# built-in\n",
    "var_int: int = 1\n",
    "var_str: str = \"Hello Typing\"\n",
    "var_byte: bytes = b\"Hello Typing\"\n",
    "var_bool: bool = True\n",
    "var_float: float = 1.\n",
    "var_unicode: Text = u'\\u2713'\n",
    "\n",
    "# could be none\n",
    "var_could_be_none: Optional[int] = None\n",
    "var_could_be_none = 1\n",
    "\n",
    "# collections\n",
    "var_set: Set[int] = {i for i in range(3)}\n",
    "var_dict: Dict[str, str] = {\"foo\": \"Foo\"}\n",
    "var_list: List[int] = [i for i in range(3)]\n",
    "var_Tuple: Tuple = (1, 2, 3)\n",
    "var_deque: Deque = deque([1, 2, 3])\n",
    "var_nametuple: NamedTuple = namedtuple('P', ['x', 'y'])\n",
    "\n",
    "# duck types: list-like\n",
    "var_seq_list: Sequence[int] = [1, 2, 3]\n",
    "var_seq_tuple: Sequence[int] = (1, 2, 3)\n",
    "var_iter_list: Iterable[int] = [1, 2, 3]\n",
    "var_iter_tuple: Iterable[int] = (1, 2, 3)\n",
    "\n",
    "# duck types: dict-like\n",
    "var_map_dict: Mapping[str, str] = {\"foo\": \"Foo\"}\n",
    "var_mutable_dict: MutableMapping[str, str] = {\"bar\": \"Bar\"}"
   ]
  },
  {
   "cell_type": "markdown",
   "metadata": {},
   "source": [
    "## Multiple return values"
   ]
  },
  {
   "cell_type": "code",
   "execution_count": 2,
   "metadata": {},
   "outputs": [],
   "source": [
    "from typing import Tuple, Iterable, Union\n",
    "\n",
    "def foo(x: int, y: int) -> Tuple[int, int]:\n",
    "    return x, y\n",
    "\n",
    "# or\n",
    "\n",
    "def bar(x: int, y: str) -> Iterable[Union[int, str]]:\n",
    "    # XXX: not recommend declaring in this way\n",
    "    return x, y\n",
    "\n",
    "a: int\n",
    "b: int\n",
    "a, b = foo(1, 2)      # ok\n",
    "c, d = bar(3, \"bar\")  # ok"
   ]
  },
  {
   "cell_type": "markdown",
   "metadata": {},
   "source": [
    "## Union[Any, None] == Optional[Any]"
   ]
  },
  {
   "cell_type": "code",
   "execution_count": 3,
   "metadata": {},
   "outputs": [],
   "source": [
    "from typing import List, Union\n",
    "\n",
    "def first(l: List[Union[int, None]]) -> Union[int, None]:\n",
    "    return None if len(l) == 0 else l[0]\n",
    "\n",
    "first([None])\n",
    "\n",
    "# equal to\n",
    "\n",
    "from typing import List, Optional\n",
    "\n",
    "def first(l: List[Optional[int]]) -> Optional[int]:\n",
    "    return None if len(l) == 0 else l[0]\n",
    "\n",
    "first([None])"
   ]
  },
  {
   "cell_type": "markdown",
   "metadata": {},
   "source": [
    "## Forward references"
   ]
  },
  {
   "cell_type": "code",
   "execution_count": 4,
   "metadata": {},
   "outputs": [],
   "source": [
    "from typing import Optional\n",
    "\n",
    "\n",
    "class Tree:\n",
    "    def __init__(\n",
    "        self, data: int,\n",
    "        left: Optional[\"Tree\"],  # Forward references.\n",
    "        right: Optional[\"Tree\"]\n",
    "    ) -> None:\n",
    "        self.data = data\n",
    "        self.left = left\n",
    "        self.right = right"
   ]
  }
 ],
 "metadata": {
  "kernelspec": {
   "display_name": "Python 3",
   "language": "python",
   "name": "python3"
  },
  "language_info": {
   "codemirror_mode": {
    "name": "ipython",
    "version": 3
   },
   "file_extension": ".py",
   "mimetype": "text/x-python",
   "name": "python",
   "nbconvert_exporter": "python",
   "pygments_lexer": "ipython3",
   "version": "3.8.5"
  }
 },
 "nbformat": 4,
 "nbformat_minor": 4
}
